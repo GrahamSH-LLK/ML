{
 "cells": [
  {
   "cell_type": "code",
   "execution_count": 127,
   "metadata": {
    "tags": [
     "remove_cell"
    ]
   },
   "outputs": [
    {
     "name": "stdout",
     "output_type": "stream",
     "text": [
      "Populating the interactive namespace from numpy and matplotlib\n"
     ]
    }
   ],
   "source": [
    "%pylab --no-import-all inline\n",
    "import seaborn as sns\n",
    "import warnings\n",
    "warnings.filterwarnings(\"ignore\")"
   ]
  },
  {
   "cell_type": "markdown",
   "metadata": {},
   "source": [
    "### The problem of overfitting\n",
    "Let's take some data distributed as in the Figure below"
   ]
  },
  {
   "cell_type": "code",
   "execution_count": 99,
   "metadata": {
    "tags": [
     "remove_input"
    ]
   },
   "outputs": [
    {
     "data": {
      "image/png": "[encoded data removed]",
      "text/plain": [
       "<Figure size 432x288 with 1 Axes>"
      ]
     },
     "metadata": {},
     "output_type": "display_data"
    }
   ],
   "source": [
    "jitter = np.random.rand(5)*0.1\n",
    "x = np.linspace(0.1, 1, 5)**2+jitter\n",
    "y = np.log(x)+jitter\n",
    "\n",
    "fig, ax = plt.subplots()\n",
    "ax.plot(x, y, marker='x', c='C3', ls='none')\n",
    "ax.set_xlabel('x')\n",
    "ax.set_ylabel('y')\n",
    "ax.set_xticks([])\n",
    "ax.set_yticks([]);"
   ]
  },
  {
   "cell_type": "markdown",
   "metadata": {},
   "source": [
    "Three models are shown in the figure Below in panels A, B, C:\n",
    "\n",
    "* Panel A: We could use linear regression to model this data but this isn't a good model. Looking at the data it seems clear that as $x$ increases, $y$ hits a plateau, while the model implies that $y$ will linearly grow with $x$. We call this problem **underfitting** or we say that the algorithm has **high bias**. It means that the algorithm has a very strong pre-conception (bias) that $y$ are going to behave very linearly.\n",
    "\n",
    "* Panel B: We could fit a quadratic function and this works pretty well, it seems that the model is \"just right\".\n",
    "\n",
    "* Panel C: At the other extreme we fit a 4th order polynomial to the data, and the curve obtained passes exactly through all data points of the training set but it is sort of wiggly and it doesn't seems to be modelling well $y$ behaviour respect $x$. This problem is called **overfitting** or we say that the algorithm has **high variance**. It means that the alogirhtm deosn't generalize well for all possible $x$ values but it seems to cover perfectly only the training set."
   ]
  },
  {
   "cell_type": "code",
   "execution_count": 105,
   "metadata": {
    "tags": [
     "remove_input"
    ]
   },
   "outputs": [
    {
     "data": {
      "image/png": "[encoded data removed]",
      "text/plain": [
       "<Figure size 864x216 with 3 Axes>"
      ]
     },
     "metadata": {},
     "output_type": "display_data"
    }
   ],
   "source": [
    "fig, axes = plt.subplots(1,3, figsize=(12, 3), sharey=True)\n",
    "ax1, ax2, ax3 = axes\n",
    "sns.regplot(x=x, y=y, ax=ax1, ci=None, scatter_kws=dict(color='C3'), marker='x')\n",
    "ax1.set_title('$\\\\theta_0+\\\\theta_1x$')\n",
    "sns.regplot(x=x, y=y, ax=ax2, ci=None, order=2, scatter_kws=dict(color='C3'), marker='x')\n",
    "ax2.set_title('$\\\\theta_0+\\\\theta_1x+\\\\theta_2x^2$')\n",
    "sns.regplot(x=x, y=y, ax=ax3, ci=None, order=6, scatter_kws=dict(color='C3'), marker='x')\n",
    "ax3.set_title('$\\\\theta_0+\\\\theta_1x+\\\\theta_2x^2+\\\\theta_3x^3+\\\\theta_4x^4$')\n",
    "\n",
    "for ax, label in zip(axes, ['A', 'B', 'C']):\n",
    "    ax.text(-0.05, 1.15, label, transform=ax.transAxes,\n",
    "      fontsize=16, va='top', ha='right')\n",
    "    ax.set_xlim(-.1, 1.26)\n",
    "    ax.set_xlabel('x')\n",
    "    ax.set_ylabel('y')\n",
    "    ax.set_xticks([])\n",
    "    ax.set_yticks([])"
   ]
  },
  {
   "cell_type": "markdown",
   "metadata": {},
   "source": [
    "The problem of overfitting comes when we have too many features and the learned hypothesis may fit the training set very well ($J(\\theta)\\approx0$), but fail to generalize to new examples.\n",
    "\n",
    "The example above depicted under and overfitting for linear regression but logistic regression can suffer from the same problems.\n",
    "\n",
    "Until now, in order to choose the degree of the polynomial of our hypothsis we would look at the plotted data. However this is not always possible because the dataset could be too big (million of rows) or too complex (many columns) to visualize. How do we avoid overfitting in those cases?\n",
    "\n",
    "* Reduce the number of features (at the cost of loosing potentially important information)\n",
    "    * manually select which features to keep\n",
    "    * model selection algorithm\n",
    "* Regularization: Keep all the features, but reduce the magnitude of parameters $\\theta_j$. This method works well when we have many features, each of which contributes to predicting $y$\n",
    "    "
   ]
  },
  {
   "cell_type": "markdown",
   "metadata": {},
   "source": [
    "# Regularization\n"
   ]
  },
  {
   "cell_type": "code",
   "execution_count": null,
   "metadata": {},
   "outputs": [],
   "source": []
  },
  {
   "cell_type": "code",
   "execution_count": null,
   "metadata": {},
   "outputs": [],
   "source": []
  }
 ],
 "metadata": {
  "kernelspec": {
   "display_name": "ML",
   "language": "python",
   "name": "ml"
  },
  "language_info": {
   "codemirror_mode": {
    "name": "ipython",
    "version": 3
   },
   "file_extension": ".py",
   "mimetype": "text/x-python",
   "name": "python",
   "nbconvert_exporter": "python",
   "pygments_lexer": "ipython3",
   "version": "3.6.9"
  }
 },
 "nbformat": 4,
 "nbformat_minor": 4
}
