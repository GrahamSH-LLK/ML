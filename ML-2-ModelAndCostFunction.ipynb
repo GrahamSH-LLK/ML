{
 "cells": [
  {
   "cell_type": "code",
   "execution_count": 2,
   "metadata": {
    "tags": [
     "remove_cell"
    ]
   },
   "outputs": [
    {
     "name": "stdout",
     "output_type": "stream",
     "text": [
      "Populating the interactive namespace from numpy and matplotlib\n"
     ]
    }
   ],
   "source": [
    "%pylab --no-import-all inline\n",
    "import pandas as pd\n",
    "import seaborn as sns\n",
    "from sklearn import datasets, metrics"
   ]
  },
  {
   "cell_type": "markdown",
   "metadata": {},
   "source": [
    "# Model Representation"
   ]
  },
  {
   "cell_type": "code",
   "execution_count": 3,
   "metadata": {
    "tags": [
     "remove_input"
    ]
   },
   "outputs": [
    {
     "data": {
      "text/html": [
       "<div>\n",
       "<style scoped>\n",
       "    .dataframe tbody tr th:only-of-type {\n",
       "        vertical-align: middle;\n",
       "    }\n",
       "\n",
       "    .dataframe tbody tr th {\n",
       "        vertical-align: top;\n",
       "    }\n",
       "\n",
       "    .dataframe thead th {\n",
       "        text-align: right;\n",
       "    }\n",
       "</style>\n",
       "<table border=\"1\" class=\"dataframe\">\n",
       "  <thead>\n",
       "    <tr style=\"text-align: right;\">\n",
       "      <th></th>\n",
       "      <th>sqf</th>\n",
       "      <th>price</th>\n",
       "    </tr>\n",
       "  </thead>\n",
       "  <tbody>\n",
       "    <tr>\n",
       "      <th>0</th>\n",
       "      <td>2104</td>\n",
       "      <td>399900</td>\n",
       "    </tr>\n",
       "    <tr>\n",
       "      <th>1</th>\n",
       "      <td>1600</td>\n",
       "      <td>329900</td>\n",
       "    </tr>\n",
       "    <tr>\n",
       "      <th>2</th>\n",
       "      <td>2400</td>\n",
       "      <td>369000</td>\n",
       "    </tr>\n",
       "    <tr>\n",
       "      <th>3</th>\n",
       "      <td>1416</td>\n",
       "      <td>232000</td>\n",
       "    </tr>\n",
       "    <tr>\n",
       "      <th>4</th>\n",
       "      <td>3000</td>\n",
       "      <td>539900</td>\n",
       "    </tr>\n",
       "  </tbody>\n",
       "</table>\n",
       "</div>"
      ],
      "text/plain": [
       "    sqf   price\n",
       "0  2104  399900\n",
       "1  1600  329900\n",
       "2  2400  369000\n",
       "3  1416  232000\n",
       "4  3000  539900"
      ]
     },
     "execution_count": 3,
     "metadata": {},
     "output_type": "execute_result"
    }
   ],
   "source": [
    "training_set = pd.read_csv('data/house_pricing.csv').drop('rooms', axis=1)\n",
    "training_set.head()"
   ]
  },
  {
   "cell_type": "markdown",
   "metadata": {},
   "source": [
    "---\n",
    "$m = $ number of training examples "
   ]
  },
  {
   "cell_type": "code",
   "execution_count": 4,
   "metadata": {},
   "outputs": [
    {
     "data": {
      "text/plain": [
       "47"
      ]
     },
     "execution_count": 4,
     "metadata": {},
     "output_type": "execute_result"
    }
   ],
   "source": [
    "m = len(training_set)\n",
    "m"
   ]
  },
  {
   "cell_type": "markdown",
   "metadata": {},
   "source": [
    "---\n",
    "$x =$ input variable / features"
   ]
  },
  {
   "cell_type": "code",
   "execution_count": 5,
   "metadata": {},
   "outputs": [
    {
     "data": {
      "text/plain": [
       "0    2104\n",
       "1    1600\n",
       "2    2400\n",
       "3    1416\n",
       "4    3000\n",
       "Name: sqf, dtype: int64"
      ]
     },
     "execution_count": 5,
     "metadata": {},
     "output_type": "execute_result"
    }
   ],
   "source": [
    "x = training_set.sqf\n",
    "x.head()"
   ]
  },
  {
   "cell_type": "markdown",
   "metadata": {},
   "source": [
    "---\n",
    "$y =$ output variable / target"
   ]
  },
  {
   "cell_type": "code",
   "execution_count": 6,
   "metadata": {},
   "outputs": [
    {
     "data": {
      "text/plain": [
       "0    399900\n",
       "1    329900\n",
       "2    369000\n",
       "3    232000\n",
       "4    539900\n",
       "Name: price, dtype: int64"
      ]
     },
     "execution_count": 6,
     "metadata": {},
     "output_type": "execute_result"
    }
   ],
   "source": [
    "y = training_set.price\n",
    "y.head()"
   ]
  },
  {
   "cell_type": "markdown",
   "metadata": {},
   "source": [
    "To establish notation for future use, we’ll use $x^{(i)}$ to denote the “input” variables, also called input features, and $y^{(i)}$ to denote the “output” or target variable that we are trying to predict. \n",
    "\n",
    "So $x^{(2)}$ is the second (if we count from 1 as it is common in math) or the third (if we count from 0 as it is common in computer science) row of $x$"
   ]
  },
  {
   "cell_type": "code",
   "execution_count": 7,
   "metadata": {},
   "outputs": [
    {
     "data": {
      "text/plain": [
       "2400"
      ]
     },
     "execution_count": 7,
     "metadata": {},
     "output_type": "execute_result"
    }
   ],
   "source": [
    "x[2]  # python starts from 0 so x[2] represents the 3rd row"
   ]
  },
  {
   "cell_type": "markdown",
   "metadata": {},
   "source": [
    "  \n",
    "A pair $\\left(x^{(i)} , y^{(i)}\\right)$ is called a training example, and the dataset that we’ll be using to learn (a list of $m$ training examples) is called a training set. Note that the superscript $^{(i)}$ in the notation is simply an index into the training set, and has nothing to do with exponentiation. We will also use $X$ to denote the space of input values, and $Y$ to denote the space of output values. In this example, $X = Y = \\mathbb{R}$. \n",
    "\n",
    "To describe the supervised learning problem slightly more formally, our goal is, given a training set, to learn a function $h : X \\to Y$ so that $h(x)$ is a “good” predictor for the corresponding value of $y$. For historical reasons, this function $h$ is called a hypothesis. Seen pictorially, the process is therefore like this:\n",
    "\n",
    "![ML](./data/img/ML-flowchart.png)\n",
    "\n",
    "When the target variable that we’re trying to predict is continuous, such as in our housing example, we call the learning problem a regression problem. When $y$ can take on only a small number of discrete values (such as if, given the living area, we wanted to predict if a dwelling is a house or an apartment, say), we call it a classification problem."
   ]
  },
  {
   "cell_type": "markdown",
   "metadata": {},
   "source": [
    "### How do we represent $h$?\n",
    "The output of a machine learning algorythm is a function $h$. But how do we represent $h$?. Our initial choice is to represent $h$ as a linear function:\n",
    "\n",
    "$$y = h_\\theta(x) = \\theta_0 + \\theta_1x$$\n",
    "\n",
    "Sometimes, we might want to use more complex non-linear functions, but this is the simplest building block of regression algorithms which can be built upon later."
   ]
  },
  {
   "cell_type": "code",
   "execution_count": 8,
   "metadata": {
    "tags": [
     "remove_input"
    ]
   },
   "outputs": [
    {
     "data": {
      "image/png": "[encoded data removed]",
      "text/plain": [
       "<Figure size 432x288 with 1 Axes>"
      ]
     },
     "metadata": {
      "needs_background": "light"
     },
     "output_type": "display_data"
    }
   ],
   "source": [
    "ax = training_set.plot.scatter(x='sqf', y='price', c='C1')\n",
    "ax.plot(*np.array([training_set.min(),  training_set.max()]).T, \n",
    "        label='$y = h_\\\\theta(x) = \\\\theta_0 + \\\\theta_1x$')\n",
    "ax.legend();"
   ]
  },
  {
   "cell_type": "markdown",
   "metadata": {},
   "source": [
    "where $\\theta_0$ is the offset of $y$ from 0; $\\theta_1$ is the slope of the line, since it scales how much $y$ varies compared to $x$."
   ]
  },
  {
   "cell_type": "markdown",
   "metadata": {},
   "source": [
    "# Cost Function\n",
    "We can measure the accuracy of our hypothesis function by using a cost function. The cost function calculates the **distance** of predicted data from observed data, obviously we want our predicted data to be as close as possible to truth values, in other words we want to **minimize** the distance from truth values.\n",
    "\n",
    "This version of cost function takes an average difference (actually a fancier version of an average) of all the results of the hypothesis with inputs from $x$ and the actual output $y$."
   ]
  },
  {
   "cell_type": "markdown",
   "metadata": {},
   "source": [
    "$$\\begin{align}\n",
    "J(\\theta_0,\\theta_1) & = \\frac{1}{2m}\\sum^m_{i=1}\\left(\\hat{y}_i-y_i\\right)^2 \\\\\n",
    "& = \\frac{1}{2m}\\sum^m_{i=1}\\left(h_{\\theta}(x_i) - y_i \\right)^2 \\\\\n",
    "& = \\frac{1}{2m}\\sum^m_{i=1}\\left(\\left(\\theta_0 + \\theta_{1}x^{(i)}\\right) - y_i \\right)^2 \n",
    "\\end{align}$$"
   ]
  },
  {
   "cell_type": "markdown",
   "metadata": {},
   "source": [
    "To break it apart, it is $\\frac{1}{2} \\bar{x}$ where $\\bar{x}$ is the mean of the squares of $h_\\theta (x_{i}) - y_{i}$ or the difference (**distance**) between the predicted value and the actual value."
   ]
  },
  {
   "cell_type": "markdown",
   "metadata": {},
   "source": [
    "This function is otherwise called the \"Squared error function\", or \"Mean squared error\". The mean is halved $\\left(\\frac{1}{2}\\right)$ as a convenience for the computation of the gradient descent, as the derivative term of the square function will cancel out the $\\frac{1}{2}$ term.\n",
    "\n",
    "In Python it's simply implemented as:"
   ]
  },
  {
   "cell_type": "code",
   "execution_count": 9,
   "metadata": {},
   "outputs": [],
   "source": [
    "J = lambda p, y : np.average(np.square((p - y)), axis=0) / 2"
   ]
  },
  {
   "cell_type": "markdown",
   "metadata": {},
   "source": [
    "---\n",
    "The idea is to chose $\\theta_0, \\theta_1$ to so that $h_\\theta(x)$ is close to $y$ for each training example $(x,y)$. In other words we want to chose $\\theta_0, \\theta_1$ to minimize the cost function $J\\left(\\theta_0, \\theta_1 \\right)$"
   ]
  },
  {
   "cell_type": "markdown",
   "metadata": {},
   "source": [
    "---\n",
    "If we try to think of it in visual terms, our training data set is scattered on the $x,y$ plane. We are trying to make a straight line (defined by $h_\\theta(x)$) which passes through these scattered data points. \n",
    "\n",
    "Our objective is to get the best possible line. The best possible line will that line for which the average squared vertical distance of the scattered points from the line will be the least. Ideally, the line should pass through all the points of our training data set. In such a case, the value of $J(\\theta_0, \\theta_1)$ would be 0. The following example shows the ideal situation where we have a cost function of 0. \n",
    "\n",
    "For a simplified version of the regression hypothesis $h_\\theta(x)$ where we removed the offset ($\\theta_0$):\n",
    "\n",
    "$$h_\\theta(x)=\\theta_1x$$"
   ]
  },
  {
   "cell_type": "code",
   "execution_count": 10,
   "metadata": {
    "tags": [
     "remove_input"
    ]
   },
   "outputs": [
    {
     "data": {
      "image/png": "[encoded data removed]",
      "text/plain": [
       "<Figure size 864x360 with 2 Axes>"
      ]
     },
     "metadata": {
      "needs_background": "light"
     },
     "output_type": "display_data"
    }
   ],
   "source": [
    "fig, [ax1, ax2] = plt.subplots(1, 2 ,figsize=(12, 5))\n",
    "x = np.linspace(1,3,3)\n",
    "ax1.plot(x, x, marker='o', markerfacecolor='C1', markeredgecolor='C1', label='$\\\\theta_1=1$');\n",
    "line, *_ = ax2.plot([1], [0], marker='o')\n",
    "line.set_clip_on(False)\n",
    "ax1.legend()\n",
    "ax2.set_xlim(0, 3)\n",
    "ax2.set_ylim(0, 3);"
   ]
  },
  {
   "cell_type": "markdown",
   "metadata": {},
   "source": [
    "$$\n",
    "\\begin{align}\n",
    "J(\\theta_1) &= \\frac{1}{2m}(0^2+0^2+0^2) \\\\\n",
    "&= 0\n",
    "\\end{align}\n",
    "$$"
   ]
  },
  {
   "cell_type": "markdown",
   "metadata": {},
   "source": [
    "When $\\theta_1 = 1$, we get a slope of 1 which goes through every single data point in our model. Conversely, when $\\theta_1 = 0.5$, we see the vertical distance from our fit to the data points increase. "
   ]
  },
  {
   "cell_type": "code",
   "execution_count": 11,
   "metadata": {
    "tags": [
     "remove_input"
    ]
   },
   "outputs": [
    {
     "data": {
      "image/png": "[encoded data removed]",
      "text/plain": [
       "<Figure size 864x360 with 2 Axes>"
      ]
     },
     "metadata": {
      "needs_background": "light"
     },
     "output_type": "display_data"
    }
   ],
   "source": [
    "fig, [ax1, ax2] = plt.subplots(1, 2 ,figsize=(12, 5))\n",
    "x = np.linspace(1,3,3)\n",
    "ax1.axline((x[0], x[0]*0.5), slope=0.5, label='$h_\\\\theta(x)$')\n",
    "line, *_ = ax1.plot(x, x, marker='o', ls='none', markerfacecolor='C1', markeredgecolor='C1', label='$y$')\n",
    "ax1.set_xlabel('x')\n",
    "ax1.set_ylabel('y')\n",
    "ax1.set_xlim(0, 3.1)\n",
    "ax1.set_ylim(0, 3.1)\n",
    "ax1.legend()\n",
    "\n",
    "for O in [1, 0.5, 0.25, 0.12]:\n",
    "    line, *_ = ax2.plot(O, J(x, x*O), marker='o', label=f'$\\\\theta_1={O}$')\n",
    "    line.set_clip_on(False)\n",
    "\n",
    "ax2.legend()\n",
    "ax2.set_xlim(0, 2.5)\n",
    "ax2.set_ylim(0, 3)\n",
    "ax2.set_xlabel('$\\\\theta_1$')\n",
    "ax2.set_ylabel('$J(\\\\theta_1)$');"
   ]
  },
  {
   "cell_type": "markdown",
   "metadata": {},
   "source": [
    "Plotting 15 $\\theta_1$ values in the interval $[-0.5, 2.5]$ yields a bell shaped graph "
   ]
  },
  {
   "cell_type": "code",
   "execution_count": 12,
   "metadata": {
    "tags": [
     "remove_input"
    ]
   },
   "outputs": [
    {
     "data": {
      "image/png": "[encoded data removed]",
      "text/plain": [
       "<Figure size 432x288 with 1 Axes>"
      ]
     },
     "metadata": {
      "needs_background": "light"
     },
     "output_type": "display_data"
    }
   ],
   "source": [
    "O = np.linspace(-.5, 2.5, 15)\n",
    "x = np.linspace(1, 3, 3)\n",
    "X = np.full((len(O), len(x)), x)\n",
    "Y = (X.T * O).T\n",
    "j = J(X.T, Y.T)\n",
    "\n",
    "fig, ax = plt.subplots()\n",
    "ax.plot(O, j, marker='o')\n",
    "ax.set_xlabel('$\\\\theta_1$')\n",
    "ax.set_ylabel('$J(\\\\theta_1)$');"
   ]
  },
  {
   "cell_type": "markdown",
   "metadata": {},
   "source": [
    "Thus as a goal, we should try to minimize the cost function. In this case, $\\theta_1 = 1$ is our global minimum. "
   ]
  },
  {
   "cell_type": "code",
   "execution_count": 21,
   "metadata": {},
   "outputs": [
    {
     "data": {
      "text/plain": [
       "array([[ 0.00000000e+00,  1.31415422e-01],\n",
       "       [ 0.00000000e+00, -5.09640698e-01],\n",
       "       [ 0.00000000e+00,  5.07908699e-01],\n",
       "       [ 0.00000000e+00, -7.43677059e-01],\n",
       "       [ 0.00000000e+00,  1.27107075e+00],\n",
       "       [ 0.00000000e+00, -1.99450507e-02],\n",
       "       [ 0.00000000e+00, -5.93588523e-01],\n",
       "       [ 0.00000000e+00, -7.29685755e-01],\n",
       "       [ 0.00000000e+00, -7.89466782e-01],\n",
       "       [ 0.00000000e+00, -6.44465993e-01],\n",
       "       [ 0.00000000e+00, -7.71822042e-02],\n",
       "       [ 0.00000000e+00, -8.65999486e-04],\n",
       "       [ 0.00000000e+00, -1.40779041e-01],\n",
       "       [ 0.00000000e+00,  3.15099326e+00],\n",
       "       [ 0.00000000e+00, -9.31923697e-01],\n",
       "       [ 0.00000000e+00,  3.80715024e-01],\n",
       "       [ 0.00000000e+00, -8.65782986e-01],\n",
       "       [ 0.00000000e+00, -9.72625673e-01],\n",
       "       [ 0.00000000e+00,  7.73743478e-01],\n",
       "       [ 0.00000000e+00,  1.31050078e+00],\n",
       "       [ 0.00000000e+00, -2.97227261e-01],\n",
       "       [ 0.00000000e+00, -1.43322915e-01],\n",
       "       [ 0.00000000e+00, -5.04552951e-01],\n",
       "       [ 0.00000000e+00, -4.91995958e-02],\n",
       "       [ 0.00000000e+00,  2.40309445e+00],\n",
       "       [ 0.00000000e+00, -1.14560907e+00],\n",
       "       [ 0.00000000e+00, -6.90255715e-01],\n",
       "       [ 0.00000000e+00,  6.68172729e-01],\n",
       "       [ 0.00000000e+00,  2.53521350e-01],\n",
       "       [ 0.00000000e+00,  8.09357707e-01],\n",
       "       [ 0.00000000e+00, -2.05647815e-01],\n",
       "       [ 0.00000000e+00, -1.27280274e+00],\n",
       "       [ 0.00000000e+00,  5.00114703e-02],\n",
       "       [ 0.00000000e+00,  1.44532608e+00],\n",
       "       [ 0.00000000e+00, -2.41262044e-01],\n",
       "       [ 0.00000000e+00, -7.16966387e-01],\n",
       "       [ 0.00000000e+00, -9.68809863e-01],\n",
       "       [ 0.00000000e+00,  1.67029651e-01],\n",
       "       [ 0.00000000e+00,  2.81647389e+00],\n",
       "       [ 0.00000000e+00,  2.05187753e-01],\n",
       "       [ 0.00000000e+00, -4.28236746e-01],\n",
       "       [ 0.00000000e+00,  3.01854946e-01],\n",
       "       [ 0.00000000e+00,  7.20322135e-01],\n",
       "       [ 0.00000000e+00, -1.01841540e+00],\n",
       "       [ 0.00000000e+00, -1.46104938e+00],\n",
       "       [ 0.00000000e+00, -1.89112638e-01],\n",
       "       [ 0.00000000e+00, -1.01459959e+00]])"
      ]
     },
     "execution_count": 21,
     "metadata": {},
     "output_type": "execute_result"
    }
   ],
   "source": [
    "# fig, ax = plt.subplots()\n",
    "O1 = np.linspace(-50, 50, 100)\n",
    "O0 = np.linspace(-1000, 2000, 100)\n",
    "x = training_set.sqf\n",
    "y = training_set.price\n",
    "X = np.full((len(O1), len(x)), x)\n",
    "Y = np.full((len(O1), len(y)), y)\n",
    "P = (X.T * O1).T\n",
    "\n",
    "from sklearn.preprocessing import StandardScaler\n",
    " \n",
    "scaler = StandardScaler()\n",
    "# X_scaled = scaler.fit_transform()\n",
    "X_scaled = np.column_stack([np.ones_like(x), x])\n",
    "\n",
    "# j = np.zeros(shape=(O0.size, O1.size))\n",
    "# for i, o0 in enumerate(O0):\n",
    "#     for u, o1 in enumerate(O1):\n",
    "#         j[i, u] = J(np.dot(X_scaled, [o0, o1]), y)\n",
    "# #         j[i, u] = J(np.dot, y)\n",
    "\n",
    "# # plt.plot(O1, J(P.T, Y.T), marker='o')\n",
    "# plt.contour(O0, O1, j)"
   ]
  },
  {
   "cell_type": "code",
   "execution_count": null,
   "metadata": {},
   "outputs": [],
   "source": []
  },
  {
   "cell_type": "code",
   "execution_count": null,
   "metadata": {},
   "outputs": [],
   "source": []
  }
 ],
 "metadata": {
  "kernelspec": {
   "display_name": "ML",
   "language": "python",
   "name": "ml"
  },
  "language_info": {
   "codemirror_mode": {
    "name": "ipython",
    "version": 3
   },
   "file_extension": ".py",
   "mimetype": "text/x-python",
   "name": "python",
   "nbconvert_exporter": "python",
   "pygments_lexer": "ipython3",
   "version": "3.6.9"
  }
 },
 "nbformat": 4,
 "nbformat_minor": 4
}
